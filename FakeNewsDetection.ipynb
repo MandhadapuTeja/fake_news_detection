{
  "nbformat": 4,
  "nbformat_minor": 0,
  "metadata": {
    "colab": {
      "provenance": []
    },
    "kernelspec": {
      "name": "python3",
      "display_name": "Python 3"
    },
    "language_info": {
      "name": "python"
    }
  },
  "cells": [
    {
      "cell_type": "code",
      "execution_count": 118,
      "metadata": {
        "id": "NOFi3twdmELj"
      },
      "outputs": [],
      "source": [
        "import pandas as pd\n",
        "import numpy as np\n",
        "from sklearn.model_selection import train_test_split\n",
        "from sklearn.feature_extraction.text import CountVectorizer\n",
        "from sklearn.svm import SVC\n",
        "from sklearn.naive_bayes import MultinomialNB\n",
        "from sklearn.metrics import accuracy_score\n",
        "import joblib\n",
        "import streamlit as st"
      ]
    },
    {
      "cell_type": "code",
      "source": [
        "df = pd.read_csv('news.csv')"
      ],
      "metadata": {
        "colab": {
          "base_uri": "https://localhost:8080/"
        },
        "id": "j3f88PRMmQty",
        "outputId": "6f771432-821c-4aca-a84d-88fe73887826"
      },
      "execution_count": 119,
      "outputs": [
        {
          "output_type": "stream",
          "name": "stderr",
          "text": [
            "<ipython-input-119-514c55bd975a>:1: DtypeWarning: Columns (24,25,26,27,28,29,30,31,32,33,34,35,36,37,38,39,40,41,42,43,44,45,46,47,48,49,50,51,52,53,54,55,56,57,58,59,60,61,62,63,64,65,66,67,68,69,70,71,72,73,74,75,76,77,78,79,80,81,82,83,84,85,86,87,88,89,90,91,92,93,94,95,96,97,98,99,100,101,102,103,104,105,106,107,108,109,110,111,112,113,114,115,116,117,118,119,120,121,122,123,124,125,126,127,128,129,130,131,132,133,134,135,136,137,138,139,140) have mixed types. Specify dtype option on import or set low_memory=False.\n",
            "  df = pd.read_csv('news.csv')\n"
          ]
        }
      ]
    },
    {
      "cell_type": "code",
      "source": [
        "print(df)"
      ],
      "metadata": {
        "colab": {
          "base_uri": "https://localhost:8080/"
        },
        "id": "cnyXOBgMm-if",
        "outputId": "aad3b09b-2e34-4c56-cf44-85859f31e3a2"
      },
      "execution_count": 121,
      "outputs": [
        {
          "output_type": "stream",
          "name": "stdout",
          "text": [
            "     Unnamed: 0                                              title  \\\n",
            "0          8476                       You Can Smell Hillary’s Fear   \n",
            "1         10294  Watch The Exact Moment Paul Ryan Committed Pol...   \n",
            "2          3608        Kerry to go to Paris in gesture of sympathy   \n",
            "3         10142  Bernie supporters on Twitter erupt in anger ag...   \n",
            "4           875   The Battle of New York: Why This Primary Matters   \n",
            "...         ...                                                ...   \n",
            "7790       4490  State Department says it can't find emails fro...   \n",
            "7791       8062  The ‘P’ in PBS Should Stand for ‘Plutocratic’ ...   \n",
            "7792       8622  Anti-Trump Protesters Are Tools of the Oligarc...   \n",
            "7793       4021  In Ethiopia, Obama seeks progress on peace, se...   \n",
            "7794       4330  Jeb Bush Is Suddenly Attacking Trump. Here's W...   \n",
            "\n",
            "                                                   text label Unnamed: 4  \\\n",
            "0     Daniel Greenfield, a Shillman Journalism Fello...  FAKE        NaN   \n",
            "1     Google Pinterest Digg Linkedin Reddit Stumbleu...  FAKE        NaN   \n",
            "2     U.S. Secretary of State John F. Kerry said Mon...  REAL        NaN   \n",
            "3     — Kaydee King (@KaydeeKing) November 9, 2016 T...  FAKE        NaN   \n",
            "4     It's primary day in New York and front-runners...  REAL        NaN   \n",
            "...                                                 ...   ...        ...   \n",
            "7790  The State Department told the Republican Natio...  REAL        NaN   \n",
            "7791  The ‘P’ in PBS Should Stand for ‘Plutocratic’ ...  FAKE        NaN   \n",
            "7792   Anti-Trump Protesters Are Tools of the Oligar...  FAKE        NaN   \n",
            "7793  ADDIS ABABA, Ethiopia —President Obama convene...  REAL        NaN   \n",
            "7794  Jeb Bush Is Suddenly Attacking Trump. Here's W...  REAL        NaN   \n",
            "\n",
            "     Unnamed: 5 Unnamed: 6 Unnamed: 7 Unnamed: 8 Unnamed: 9  ... Unnamed: 131  \\\n",
            "0           NaN        NaN        NaN        NaN        NaN  ...          NaN   \n",
            "1           NaN        NaN        NaN        NaN        NaN  ...          NaN   \n",
            "2           NaN        NaN        NaN        NaN        NaN  ...          NaN   \n",
            "3           NaN        NaN        NaN        NaN        NaN  ...          NaN   \n",
            "4           NaN        NaN        NaN        NaN        NaN  ...          NaN   \n",
            "...         ...        ...        ...        ...        ...  ...          ...   \n",
            "7790        NaN        NaN        NaN        NaN        NaN  ...          NaN   \n",
            "7791        NaN        NaN        NaN        NaN        NaN  ...          NaN   \n",
            "7792        NaN        NaN        NaN        NaN        NaN  ...          NaN   \n",
            "7793        NaN        NaN        NaN        NaN        NaN  ...          NaN   \n",
            "7794        NaN        NaN        NaN        NaN        NaN  ...          NaN   \n",
            "\n",
            "     Unnamed: 132 Unnamed: 133 Unnamed: 134 Unnamed: 135 Unnamed: 136  \\\n",
            "0             NaN          NaN          NaN          NaN          NaN   \n",
            "1             NaN          NaN          NaN          NaN          NaN   \n",
            "2             NaN          NaN          NaN          NaN          NaN   \n",
            "3             NaN          NaN          NaN          NaN          NaN   \n",
            "4             NaN          NaN          NaN          NaN          NaN   \n",
            "...           ...          ...          ...          ...          ...   \n",
            "7790          NaN          NaN          NaN          NaN          NaN   \n",
            "7791          NaN          NaN          NaN          NaN          NaN   \n",
            "7792          NaN          NaN          NaN          NaN          NaN   \n",
            "7793          NaN          NaN          NaN          NaN          NaN   \n",
            "7794          NaN          NaN          NaN          NaN          NaN   \n",
            "\n",
            "     Unnamed: 137 Unnamed: 138 Unnamed: 139 Unnamed: 140  \n",
            "0             NaN          NaN          NaN          NaN  \n",
            "1             NaN          NaN          NaN          NaN  \n",
            "2             NaN          NaN          NaN          NaN  \n",
            "3             NaN          NaN          NaN          NaN  \n",
            "4             NaN          NaN          NaN          NaN  \n",
            "...           ...          ...          ...          ...  \n",
            "7790          NaN          NaN          NaN          NaN  \n",
            "7791          NaN          NaN          NaN          NaN  \n",
            "7792          NaN          NaN          NaN          NaN  \n",
            "7793          NaN          NaN          NaN          NaN  \n",
            "7794          NaN          NaN          NaN          NaN  \n",
            "\n",
            "[7795 rows x 141 columns]\n"
          ]
        }
      ]
    },
    {
      "cell_type": "code",
      "source": [
        "df['title'].fillna('NA', inplace=True)\n",
        "df['label'].fillna('NA', inplace=True)"
      ],
      "metadata": {
        "id": "6PiTgI8NvbYL"
      },
      "execution_count": 122,
      "outputs": []
    },
    {
      "cell_type": "code",
      "source": [
        "x = df['title'].values\n",
        "y = df['label'].values"
      ],
      "metadata": {
        "id": "IipgNqDspO2Y"
      },
      "execution_count": 123,
      "outputs": []
    },
    {
      "cell_type": "code",
      "source": [
        "X_train, X_test, Y_train, Y_test = train_test_split(x, y, test_size=0.33,random_state=42)"
      ],
      "metadata": {
        "id": "QO6XeHYspT_k"
      },
      "execution_count": 124,
      "outputs": []
    },
    {
      "cell_type": "code",
      "source": [
        "print(X_train)"
      ],
      "metadata": {
        "colab": {
          "base_uri": "https://localhost:8080/"
        },
        "id": "RtXK1Nn7peCc",
        "outputId": "d415dcac-f863-403e-bb0d-3072eec62573"
      },
      "execution_count": 125,
      "outputs": [
        {
          "output_type": "stream",
          "name": "stdout",
          "text": [
            "[' actually i trust the fed alot more than i trust the (current) congress'\n",
            " \"Rescue Brings A Bit Of Good News To Nepal's Capital After Earthquake\"\n",
            " \"Sanders calls Trump 'political coward' over voter suppression report\"\n",
            " ...\n",
            " 'Physicists just found more hints of an elusive particle that’s its own antiparticle'\n",
            " 'Life: 7 Incredible Animal Mating Rituals'\n",
            " 'Re: Get Ready For Civil Unrest: Survey Finds That Most Americans Are Concerned About Election Violence']\n"
          ]
        }
      ]
    },
    {
      "cell_type": "code",
      "source": [
        "from pandas._libs.tslibs.offsets import YearEnd\n",
        "from sklearn.feature_extraction.text import CountVectorizer\n",
        "\n",
        "# Text vectorization\n",
        "vect = CountVectorizer(stop_words='english')\n",
        "X_train_vect = vect.fit_transform(X_train)\n",
        "X_test_vect = vect.transform(X_test)\n",
        "Y_train_vect = vect.fit_transform(Y_train)\n",
        "Y_test_vect = vect.transform(Y_test)"
      ],
      "metadata": {
        "id": "RG7zdm25pXNv"
      },
      "execution_count": 126,
      "outputs": []
    },
    {
      "cell_type": "code",
      "source": [
        "X_train_vect"
      ],
      "metadata": {
        "colab": {
          "base_uri": "https://localhost:8080/"
        },
        "id": "LtcqZ2g1rMi3",
        "outputId": "2f591d3e-dc5a-4ac6-d271-882be5b93bd3"
      },
      "execution_count": 127,
      "outputs": [
        {
          "output_type": "execute_result",
          "data": {
            "text/plain": [
              "<5222x8964 sparse matrix of type '<class 'numpy.int64'>'\n",
              "\twith 34663 stored elements in Compressed Sparse Row format>"
            ]
          },
          "metadata": {},
          "execution_count": 127
        }
      ]
    },
    {
      "cell_type": "code",
      "source": [
        "from sklearn.svm import SVC\n",
        "model1=SVC()\n",
        "model1.fit(X_train_vect,Y_train)\n",
        "Y_pred1=model1.predict(X_test_vect)\n",
        "Y_pred1\n"
      ],
      "metadata": {
        "colab": {
          "base_uri": "https://localhost:8080/"
        },
        "id": "np1VMXHVpZTF",
        "outputId": "35208526-48f2-4840-c423-b943176d112f"
      },
      "execution_count": 128,
      "outputs": [
        {
          "output_type": "execute_result",
          "data": {
            "text/plain": [
              "array(['REAL', 'REAL', 'REAL', ..., 'FAKE', 'REAL', 'REAL'], dtype=object)"
            ]
          },
          "metadata": {},
          "execution_count": 128
        }
      ]
    },
    {
      "cell_type": "code",
      "source": [
        "from sklearn.metrics import accuracy_score\n",
        "accuracy_score(Y_pred1,Y_test)\n"
      ],
      "metadata": {
        "colab": {
          "base_uri": "https://localhost:8080/"
        },
        "id": "FKe5fqaPqfm8",
        "outputId": "61eea686-ceab-4a3d-cfc2-deabc0747e1a"
      },
      "execution_count": 129,
      "outputs": [
        {
          "output_type": "execute_result",
          "data": {
            "text/plain": [
              "0.731441896618733"
            ]
          },
          "metadata": {},
          "execution_count": 129
        }
      ]
    },
    {
      "cell_type": "code",
      "source": [
        "from sklearn.pipeline import make_pipeline\n",
        "model2=make_pipeline(CountVectorizer(),SVC())\n",
        "model2.fit(X_train,Y_train)"
      ],
      "metadata": {
        "colab": {
          "base_uri": "https://localhost:8080/",
          "height": 126
        },
        "id": "jLtKdSC4xwZM",
        "outputId": "9ac120d2-aae9-4b78-ac54-b3c29cfb74cf"
      },
      "execution_count": 130,
      "outputs": [
        {
          "output_type": "execute_result",
          "data": {
            "text/plain": [
              "Pipeline(steps=[('countvectorizer', CountVectorizer()), ('svc', SVC())])"
            ],
            "text/html": [
              "<style>#sk-container-id-3 {color: black;background-color: white;}#sk-container-id-3 pre{padding: 0;}#sk-container-id-3 div.sk-toggleable {background-color: white;}#sk-container-id-3 label.sk-toggleable__label {cursor: pointer;display: block;width: 100%;margin-bottom: 0;padding: 0.3em;box-sizing: border-box;text-align: center;}#sk-container-id-3 label.sk-toggleable__label-arrow:before {content: \"▸\";float: left;margin-right: 0.25em;color: #696969;}#sk-container-id-3 label.sk-toggleable__label-arrow:hover:before {color: black;}#sk-container-id-3 div.sk-estimator:hover label.sk-toggleable__label-arrow:before {color: black;}#sk-container-id-3 div.sk-toggleable__content {max-height: 0;max-width: 0;overflow: hidden;text-align: left;background-color: #f0f8ff;}#sk-container-id-3 div.sk-toggleable__content pre {margin: 0.2em;color: black;border-radius: 0.25em;background-color: #f0f8ff;}#sk-container-id-3 input.sk-toggleable__control:checked~div.sk-toggleable__content {max-height: 200px;max-width: 100%;overflow: auto;}#sk-container-id-3 input.sk-toggleable__control:checked~label.sk-toggleable__label-arrow:before {content: \"▾\";}#sk-container-id-3 div.sk-estimator input.sk-toggleable__control:checked~label.sk-toggleable__label {background-color: #d4ebff;}#sk-container-id-3 div.sk-label input.sk-toggleable__control:checked~label.sk-toggleable__label {background-color: #d4ebff;}#sk-container-id-3 input.sk-hidden--visually {border: 0;clip: rect(1px 1px 1px 1px);clip: rect(1px, 1px, 1px, 1px);height: 1px;margin: -1px;overflow: hidden;padding: 0;position: absolute;width: 1px;}#sk-container-id-3 div.sk-estimator {font-family: monospace;background-color: #f0f8ff;border: 1px dotted black;border-radius: 0.25em;box-sizing: border-box;margin-bottom: 0.5em;}#sk-container-id-3 div.sk-estimator:hover {background-color: #d4ebff;}#sk-container-id-3 div.sk-parallel-item::after {content: \"\";width: 100%;border-bottom: 1px solid gray;flex-grow: 1;}#sk-container-id-3 div.sk-label:hover label.sk-toggleable__label {background-color: #d4ebff;}#sk-container-id-3 div.sk-serial::before {content: \"\";position: absolute;border-left: 1px solid gray;box-sizing: border-box;top: 0;bottom: 0;left: 50%;z-index: 0;}#sk-container-id-3 div.sk-serial {display: flex;flex-direction: column;align-items: center;background-color: white;padding-right: 0.2em;padding-left: 0.2em;position: relative;}#sk-container-id-3 div.sk-item {position: relative;z-index: 1;}#sk-container-id-3 div.sk-parallel {display: flex;align-items: stretch;justify-content: center;background-color: white;position: relative;}#sk-container-id-3 div.sk-item::before, #sk-container-id-3 div.sk-parallel-item::before {content: \"\";position: absolute;border-left: 1px solid gray;box-sizing: border-box;top: 0;bottom: 0;left: 50%;z-index: -1;}#sk-container-id-3 div.sk-parallel-item {display: flex;flex-direction: column;z-index: 1;position: relative;background-color: white;}#sk-container-id-3 div.sk-parallel-item:first-child::after {align-self: flex-end;width: 50%;}#sk-container-id-3 div.sk-parallel-item:last-child::after {align-self: flex-start;width: 50%;}#sk-container-id-3 div.sk-parallel-item:only-child::after {width: 0;}#sk-container-id-3 div.sk-dashed-wrapped {border: 1px dashed gray;margin: 0 0.4em 0.5em 0.4em;box-sizing: border-box;padding-bottom: 0.4em;background-color: white;}#sk-container-id-3 div.sk-label label {font-family: monospace;font-weight: bold;display: inline-block;line-height: 1.2em;}#sk-container-id-3 div.sk-label-container {text-align: center;}#sk-container-id-3 div.sk-container {/* jupyter's `normalize.less` sets `[hidden] { display: none; }` but bootstrap.min.css set `[hidden] { display: none !important; }` so we also need the `!important` here to be able to override the default hidden behavior on the sphinx rendered scikit-learn.org. See: https://github.com/scikit-learn/scikit-learn/issues/21755 */display: inline-block !important;position: relative;}#sk-container-id-3 div.sk-text-repr-fallback {display: none;}</style><div id=\"sk-container-id-3\" class=\"sk-top-container\"><div class=\"sk-text-repr-fallback\"><pre>Pipeline(steps=[(&#x27;countvectorizer&#x27;, CountVectorizer()), (&#x27;svc&#x27;, SVC())])</pre><b>In a Jupyter environment, please rerun this cell to show the HTML representation or trust the notebook. <br />On GitHub, the HTML representation is unable to render, please try loading this page with nbviewer.org.</b></div><div class=\"sk-container\" hidden><div class=\"sk-item sk-dashed-wrapped\"><div class=\"sk-label-container\"><div class=\"sk-label sk-toggleable\"><input class=\"sk-toggleable__control sk-hidden--visually\" id=\"sk-estimator-id-7\" type=\"checkbox\" ><label for=\"sk-estimator-id-7\" class=\"sk-toggleable__label sk-toggleable__label-arrow\">Pipeline</label><div class=\"sk-toggleable__content\"><pre>Pipeline(steps=[(&#x27;countvectorizer&#x27;, CountVectorizer()), (&#x27;svc&#x27;, SVC())])</pre></div></div></div><div class=\"sk-serial\"><div class=\"sk-item\"><div class=\"sk-estimator sk-toggleable\"><input class=\"sk-toggleable__control sk-hidden--visually\" id=\"sk-estimator-id-8\" type=\"checkbox\" ><label for=\"sk-estimator-id-8\" class=\"sk-toggleable__label sk-toggleable__label-arrow\">CountVectorizer</label><div class=\"sk-toggleable__content\"><pre>CountVectorizer()</pre></div></div></div><div class=\"sk-item\"><div class=\"sk-estimator sk-toggleable\"><input class=\"sk-toggleable__control sk-hidden--visually\" id=\"sk-estimator-id-9\" type=\"checkbox\" ><label for=\"sk-estimator-id-9\" class=\"sk-toggleable__label sk-toggleable__label-arrow\">SVC</label><div class=\"sk-toggleable__content\"><pre>SVC()</pre></div></div></div></div></div></div></div>"
            ]
          },
          "metadata": {},
          "execution_count": 130
        }
      ]
    },
    {
      "cell_type": "code",
      "source": [
        "Y_pred2=model2.predict(X_test)\n",
        "Y_pred2"
      ],
      "metadata": {
        "colab": {
          "base_uri": "https://localhost:8080/"
        },
        "id": "2XxSiag8x2Dj",
        "outputId": "c13d50ce-b432-438a-c5c1-811ddf02603a"
      },
      "execution_count": 131,
      "outputs": [
        {
          "output_type": "execute_result",
          "data": {
            "text/plain": [
              "array(['REAL', 'REAL', 'REAL', ..., 'FAKE', 'FAKE', 'REAL'], dtype=object)"
            ]
          },
          "metadata": {},
          "execution_count": 131
        }
      ]
    },
    {
      "cell_type": "code",
      "source": [
        "Y_test"
      ],
      "metadata": {
        "colab": {
          "base_uri": "https://localhost:8080/"
        },
        "id": "DRb-RR_Ex7bi",
        "outputId": "ba72f1f4-93bd-45ea-b5fe-fd4a4c31e807"
      },
      "execution_count": 132,
      "outputs": [
        {
          "output_type": "execute_result",
          "data": {
            "text/plain": [
              "array(['REAL', 'REAL', 'REAL', ..., 'REAL', 'REAL', 'REAL'], dtype=object)"
            ]
          },
          "metadata": {},
          "execution_count": 132
        }
      ]
    },
    {
      "cell_type": "code",
      "source": [
        "from sklearn.metrics import accuracy_score\n",
        "accuracy_score(Y_pred2,Y_test)"
      ],
      "metadata": {
        "colab": {
          "base_uri": "https://localhost:8080/"
        },
        "id": "9gawmbe9x7vQ",
        "outputId": "59b981ad-d8dc-42f1-b3f3-024642a0ca55"
      },
      "execution_count": 133,
      "outputs": [
        {
          "output_type": "execute_result",
          "data": {
            "text/plain": [
              "0.7267780800621843"
            ]
          },
          "metadata": {},
          "execution_count": 133
        }
      ]
    },
    {
      "cell_type": "code",
      "source": [
        "from sklearn.naive_bayes import MultinomialNB\n",
        "model3=MultinomialNB()\n",
        "model3.fit(X_train_vect,Y_train)\n",
        "Y_pred3=model3.predict(X_test_vect)\n",
        "Y_pred3\n"
      ],
      "metadata": {
        "colab": {
          "base_uri": "https://localhost:8080/"
        },
        "id": "SlZm02zpx-ON",
        "outputId": "e6ab7d76-0ad6-4d14-dfa0-7d2a0b89f2df"
      },
      "execution_count": 134,
      "outputs": [
        {
          "output_type": "execute_result",
          "data": {
            "text/plain": [
              "array(['REAL', 'REAL', 'REAL', ..., 'FAKE', 'REAL', 'REAL'], dtype='<U433')"
            ]
          },
          "metadata": {},
          "execution_count": 134
        }
      ]
    },
    {
      "cell_type": "code",
      "source": [
        "Y_test"
      ],
      "metadata": {
        "colab": {
          "base_uri": "https://localhost:8080/"
        },
        "id": "2HyNyLFWyA01",
        "outputId": "faecd394-b27c-4625-fd29-620e7fe118cd"
      },
      "execution_count": 135,
      "outputs": [
        {
          "output_type": "execute_result",
          "data": {
            "text/plain": [
              "array(['REAL', 'REAL', 'REAL', ..., 'REAL', 'REAL', 'REAL'], dtype=object)"
            ]
          },
          "metadata": {},
          "execution_count": 135
        }
      ]
    },
    {
      "cell_type": "code",
      "source": [
        "from sklearn.metrics import accuracy_score\n",
        "accuracy_score(Y_pred3,Y_test)\n"
      ],
      "metadata": {
        "colab": {
          "base_uri": "https://localhost:8080/"
        },
        "id": "n6HXQ1GPyDi-",
        "outputId": "bc0155af-7994-4959-9026-6c6b41d2f2a2"
      },
      "execution_count": 136,
      "outputs": [
        {
          "output_type": "execute_result",
          "data": {
            "text/plain": [
              "0.7376603186941314"
            ]
          },
          "metadata": {},
          "execution_count": 136
        }
      ]
    },
    {
      "cell_type": "code",
      "source": [
        "from sklearn.pipeline import make_pipeline\n",
        "model4=make_pipeline(CountVectorizer(),MultinomialNB())\n",
        "model4.fit(X_train,Y_train)\n",
        "Y_pred4=model4.predict(X_test)\n",
        "Y_pred4"
      ],
      "metadata": {
        "colab": {
          "base_uri": "https://localhost:8080/"
        },
        "id": "uJF5jRMRyFc2",
        "outputId": "89b1c14c-f7d4-4a25-96ca-479f16163208"
      },
      "execution_count": 137,
      "outputs": [
        {
          "output_type": "execute_result",
          "data": {
            "text/plain": [
              "array(['REAL', 'REAL', 'REAL', ..., 'FAKE', 'REAL', 'REAL'], dtype='<U433')"
            ]
          },
          "metadata": {},
          "execution_count": 137
        }
      ]
    },
    {
      "cell_type": "code",
      "source": [
        "Y_test"
      ],
      "metadata": {
        "colab": {
          "base_uri": "https://localhost:8080/"
        },
        "id": "ieJhrmXjyIUX",
        "outputId": "6353ed97-ac0a-428e-d8a0-a5ad54ef2eb4"
      },
      "execution_count": 138,
      "outputs": [
        {
          "output_type": "execute_result",
          "data": {
            "text/plain": [
              "array(['REAL', 'REAL', 'REAL', ..., 'REAL', 'REAL', 'REAL'], dtype=object)"
            ]
          },
          "metadata": {},
          "execution_count": 138
        }
      ]
    },
    {
      "cell_type": "code",
      "source": [
        "from sklearn.metrics import accuracy_score\n",
        "accuracy_score(Y_pred4,Y_test)\n"
      ],
      "metadata": {
        "colab": {
          "base_uri": "https://localhost:8080/"
        },
        "id": "w4N1fm_iyKXA",
        "outputId": "dd1f22c5-a2d3-4b5e-b9e8-7c38ba6c92b2"
      },
      "execution_count": 139,
      "outputs": [
        {
          "output_type": "execute_result",
          "data": {
            "text/plain": [
              "0.7450446949086669"
            ]
          },
          "metadata": {},
          "execution_count": 139
        }
      ]
    },
    {
      "cell_type": "code",
      "source": [
        "import joblib\n",
        "joblib.dump(model4,'fake-real')\n"
      ],
      "metadata": {
        "colab": {
          "base_uri": "https://localhost:8080/"
        },
        "id": "jLvCEAUDyUy6",
        "outputId": "a5330a1b-f765-4a95-87bb-31078dd8be7c"
      },
      "execution_count": 140,
      "outputs": [
        {
          "output_type": "execute_result",
          "data": {
            "text/plain": [
              "['fake-real']"
            ]
          },
          "metadata": {},
          "execution_count": 140
        }
      ]
    },
    {
      "cell_type": "code",
      "source": [
        "import joblib\n",
        "text_model = joblib.load('fake-real')\n"
      ],
      "metadata": {
        "id": "3Z7YOdtByXEJ"
      },
      "execution_count": 141,
      "outputs": []
    }
  ]
}